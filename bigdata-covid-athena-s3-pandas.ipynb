{
 "cells": [
  {
   "cell_type": "code",
   "execution_count": 214,
   "id": "89b02a52",
   "metadata": {},
   "outputs": [],
   "source": [
    "import pandas as pd\n",
    "from io import StringIO\n",
    "import boto3\n",
    "import time\n",
    "\n",
    "AWS_ACCESS_KEY = \"\"\n",
    "AWS_ACCESS_SECRET = \"\"\n",
    "AWS_REGION = \"us-east-1\"\n",
    "SCHEMA_NAME = \"bigdata-covid-db\"\n",
    "S3_STAGING_DIR = \"s3://bigdata-covid-project-athena/athena-output-data/\"\n",
    "S3_BUCKET_NAME = \"bigdata-covid-project-athena\"\n",
    "S3_OUTPUT_DIRECTORY = \"athena-output-data\""
   ]
  },
  {
   "cell_type": "code",
   "execution_count": 215,
   "id": "7aff8a73",
   "metadata": {},
   "outputs": [],
   "source": [
    "athena_client = boto3.client(\"athena\",\n",
    "                            aws_access_key_id = AWS_ACCESS_KEY,\n",
    "                            aws_secret_access_key = AWS_ACCESS_SECRET,\n",
    "                            region_name = AWS_REGION,\n",
    "                            )"
   ]
  },
  {
   "cell_type": "code",
   "execution_count": 216,
   "id": "6729ae1f",
   "metadata": {},
   "outputs": [
    {
     "data": {
      "text/plain": [
       "{'QueryExecutionId': '932776f2-431e-497a-aabd-d059b3352964',\n",
       " 'ResponseMetadata': {'RequestId': 'd414c18a-e357-427e-b5ec-9476527734d9',\n",
       "  'HTTPStatusCode': 200,\n",
       "  'HTTPHeaders': {'date': 'Fri, 10 Nov 2023 14:05:53 GMT',\n",
       "   'content-type': 'application/x-amz-json-1.1',\n",
       "   'content-length': '59',\n",
       "   'connection': 'keep-alive',\n",
       "   'x-amzn-requestid': 'd414c18a-e357-427e-b5ec-9476527734d9'},\n",
       "  'RetryAttempts': 0}}"
      ]
     },
     "execution_count": 216,
     "metadata": {},
     "output_type": "execute_result"
    }
   ],
   "source": [
    "#querying athena and storing into pandas dataframe\n",
    "Dict = {}\n",
    "def download_and_load_query_results(client: boto3.client, \n",
    "                                    query_response: Dict\n",
    "                                   )-> pd.DataFrame:\n",
    "    while True:\n",
    "        try:\n",
    "            client.get_query_results(\n",
    "            QueryExecutionId = query_response[\"QueryExecutionId\"])\n",
    "            break\n",
    "        except Exception as err:\n",
    "            if \"not yet finished\" in str(err):\n",
    "                time.sleep(0.001)\n",
    "            else:\n",
    "                raise err\n",
    "    temp_file_location: str = \"athena_query_results.csv\"\n",
    "    s3_client = boto3.client(\n",
    "    \"s3\",\n",
    "    aws_access_key_id=AWS_ACCESS_KEY,\n",
    "    aws_secret_access_key=AWS_ACCESS_SECRET,\n",
    "    region_name=AWS_REGION,\n",
    "    )\n",
    "    s3_client.download_file(\n",
    "    S3_BUCKET_NAME,\n",
    "    f\"{S3_OUTPUT_DIRECTORY}/{query_response['QueryExecutionId']}.csv\",\n",
    "    temp_file_location,\n",
    "    )\n",
    "    return pd.read_csv(temp_file_location)\n",
    "response = athena_client.start_query_execution(\n",
    "    QueryString=\"SELECT * FROM vaccinations\",\n",
    "    QueryExecutionContext={\"Database\": SCHEMA_NAME},\n",
    "    ResultConfiguration={\n",
    "        \"OutputLocation\": S3_STAGING_DIR,\n",
    "        \"EncryptionConfiguration\": {\"EncryptionOption\": \"SSE_S3\"},\n",
    "    },\n",
    ")\n",
    "response"
   ]
  },
  {
   "cell_type": "code",
   "execution_count": 217,
   "id": "ff1ae945",
   "metadata": {},
   "outputs": [],
   "source": [
    "vaccinations = download_and_load_query_results(athena_client, response)"
   ]
  },
  {
   "cell_type": "code",
   "execution_count": 218,
   "id": "aee70b0d",
   "metadata": {},
   "outputs": [
    {
     "data": {
      "text/html": [
       "<div>\n",
       "<style scoped>\n",
       "    .dataframe tbody tr th:only-of-type {\n",
       "        vertical-align: middle;\n",
       "    }\n",
       "\n",
       "    .dataframe tbody tr th {\n",
       "        vertical-align: top;\n",
       "    }\n",
       "\n",
       "    .dataframe thead th {\n",
       "        text-align: right;\n",
       "    }\n",
       "</style>\n",
       "<table border=\"1\" class=\"dataframe\">\n",
       "  <thead>\n",
       "    <tr style=\"text-align: right;\">\n",
       "      <th></th>\n",
       "      <th>location</th>\n",
       "      <th>iso_code</th>\n",
       "      <th>date</th>\n",
       "      <th>total_vaccinations</th>\n",
       "      <th>people_vaccinated</th>\n",
       "      <th>people_fully_vaccinated</th>\n",
       "      <th>total_boosters</th>\n",
       "      <th>daily_vaccinations_raw</th>\n",
       "      <th>daily_vaccinations</th>\n",
       "      <th>total_vaccinations_per_hundred</th>\n",
       "      <th>people_vaccinated_per_hundred</th>\n",
       "      <th>people_fully_vaccinated_per_hundred</th>\n",
       "      <th>total_boosters_per_hundred</th>\n",
       "      <th>daily_vaccinations_per_million</th>\n",
       "      <th>daily_people_vaccinated</th>\n",
       "      <th>daily_people_vaccinated_per_hundred</th>\n",
       "    </tr>\n",
       "  </thead>\n",
       "  <tbody>\n",
       "    <tr>\n",
       "      <th>0</th>\n",
       "      <td>Afghanistan</td>\n",
       "      <td>AFG</td>\n",
       "      <td>2021-02-22</td>\n",
       "      <td>0.0</td>\n",
       "      <td>0.0</td>\n",
       "      <td>NaN</td>\n",
       "      <td>NaN</td>\n",
       "      <td>NaN</td>\n",
       "      <td>NaN</td>\n",
       "      <td>0.0</td>\n",
       "      <td>0.0</td>\n",
       "      <td>NaN</td>\n",
       "      <td>NaN</td>\n",
       "      <td>NaN</td>\n",
       "      <td>NaN</td>\n",
       "      <td>NaN</td>\n",
       "    </tr>\n",
       "    <tr>\n",
       "      <th>1</th>\n",
       "      <td>Afghanistan</td>\n",
       "      <td>AFG</td>\n",
       "      <td>2021-02-23</td>\n",
       "      <td>NaN</td>\n",
       "      <td>NaN</td>\n",
       "      <td>NaN</td>\n",
       "      <td>NaN</td>\n",
       "      <td>NaN</td>\n",
       "      <td>1367.0</td>\n",
       "      <td>NaN</td>\n",
       "      <td>NaN</td>\n",
       "      <td>NaN</td>\n",
       "      <td>NaN</td>\n",
       "      <td>34.0</td>\n",
       "      <td>1367.0</td>\n",
       "      <td>0.003</td>\n",
       "    </tr>\n",
       "    <tr>\n",
       "      <th>2</th>\n",
       "      <td>Afghanistan</td>\n",
       "      <td>AFG</td>\n",
       "      <td>2021-02-24</td>\n",
       "      <td>NaN</td>\n",
       "      <td>NaN</td>\n",
       "      <td>NaN</td>\n",
       "      <td>NaN</td>\n",
       "      <td>NaN</td>\n",
       "      <td>1367.0</td>\n",
       "      <td>NaN</td>\n",
       "      <td>NaN</td>\n",
       "      <td>NaN</td>\n",
       "      <td>NaN</td>\n",
       "      <td>34.0</td>\n",
       "      <td>1367.0</td>\n",
       "      <td>0.003</td>\n",
       "    </tr>\n",
       "    <tr>\n",
       "      <th>3</th>\n",
       "      <td>Afghanistan</td>\n",
       "      <td>AFG</td>\n",
       "      <td>2021-02-25</td>\n",
       "      <td>NaN</td>\n",
       "      <td>NaN</td>\n",
       "      <td>NaN</td>\n",
       "      <td>NaN</td>\n",
       "      <td>NaN</td>\n",
       "      <td>1367.0</td>\n",
       "      <td>NaN</td>\n",
       "      <td>NaN</td>\n",
       "      <td>NaN</td>\n",
       "      <td>NaN</td>\n",
       "      <td>34.0</td>\n",
       "      <td>1367.0</td>\n",
       "      <td>0.003</td>\n",
       "    </tr>\n",
       "    <tr>\n",
       "      <th>4</th>\n",
       "      <td>Afghanistan</td>\n",
       "      <td>AFG</td>\n",
       "      <td>2021-02-26</td>\n",
       "      <td>NaN</td>\n",
       "      <td>NaN</td>\n",
       "      <td>NaN</td>\n",
       "      <td>NaN</td>\n",
       "      <td>NaN</td>\n",
       "      <td>1367.0</td>\n",
       "      <td>NaN</td>\n",
       "      <td>NaN</td>\n",
       "      <td>NaN</td>\n",
       "      <td>NaN</td>\n",
       "      <td>34.0</td>\n",
       "      <td>1367.0</td>\n",
       "      <td>0.003</td>\n",
       "    </tr>\n",
       "  </tbody>\n",
       "</table>\n",
       "</div>"
      ],
      "text/plain": [
       "      location iso_code        date  total_vaccinations  people_vaccinated  \\\n",
       "0  Afghanistan      AFG  2021-02-22                 0.0                0.0   \n",
       "1  Afghanistan      AFG  2021-02-23                 NaN                NaN   \n",
       "2  Afghanistan      AFG  2021-02-24                 NaN                NaN   \n",
       "3  Afghanistan      AFG  2021-02-25                 NaN                NaN   \n",
       "4  Afghanistan      AFG  2021-02-26                 NaN                NaN   \n",
       "\n",
       "   people_fully_vaccinated  total_boosters  daily_vaccinations_raw  \\\n",
       "0                      NaN             NaN                     NaN   \n",
       "1                      NaN             NaN                     NaN   \n",
       "2                      NaN             NaN                     NaN   \n",
       "3                      NaN             NaN                     NaN   \n",
       "4                      NaN             NaN                     NaN   \n",
       "\n",
       "   daily_vaccinations  total_vaccinations_per_hundred  \\\n",
       "0                 NaN                             0.0   \n",
       "1              1367.0                             NaN   \n",
       "2              1367.0                             NaN   \n",
       "3              1367.0                             NaN   \n",
       "4              1367.0                             NaN   \n",
       "\n",
       "   people_vaccinated_per_hundred  people_fully_vaccinated_per_hundred  \\\n",
       "0                            0.0                                  NaN   \n",
       "1                            NaN                                  NaN   \n",
       "2                            NaN                                  NaN   \n",
       "3                            NaN                                  NaN   \n",
       "4                            NaN                                  NaN   \n",
       "\n",
       "   total_boosters_per_hundred  daily_vaccinations_per_million  \\\n",
       "0                         NaN                             NaN   \n",
       "1                         NaN                            34.0   \n",
       "2                         NaN                            34.0   \n",
       "3                         NaN                            34.0   \n",
       "4                         NaN                            34.0   \n",
       "\n",
       "   daily_people_vaccinated  daily_people_vaccinated_per_hundred  \n",
       "0                      NaN                                  NaN  \n",
       "1                   1367.0                                0.003  \n",
       "2                   1367.0                                0.003  \n",
       "3                   1367.0                                0.003  \n",
       "4                   1367.0                                0.003  "
      ]
     },
     "execution_count": 218,
     "metadata": {},
     "output_type": "execute_result"
    }
   ],
   "source": [
    "vaccinations.head()"
   ]
  },
  {
   "cell_type": "code",
   "execution_count": 219,
   "id": "22bc7b58",
   "metadata": {},
   "outputs": [
    {
     "data": {
      "text/html": [
       "<div>\n",
       "<style scoped>\n",
       "    .dataframe tbody tr th:only-of-type {\n",
       "        vertical-align: middle;\n",
       "    }\n",
       "\n",
       "    .dataframe tbody tr th {\n",
       "        vertical-align: top;\n",
       "    }\n",
       "\n",
       "    .dataframe thead th {\n",
       "        text-align: right;\n",
       "    }\n",
       "</style>\n",
       "<table border=\"1\" class=\"dataframe\">\n",
       "  <thead>\n",
       "    <tr style=\"text-align: right;\">\n",
       "      <th></th>\n",
       "      <th>location</th>\n",
       "      <th>date</th>\n",
       "      <th>vaccine</th>\n",
       "      <th>total_vaccinations</th>\n",
       "    </tr>\n",
       "  </thead>\n",
       "  <tbody>\n",
       "    <tr>\n",
       "      <th>0</th>\n",
       "      <td>Argentina</td>\n",
       "      <td>2020-12-29</td>\n",
       "      <td>Moderna</td>\n",
       "      <td>2</td>\n",
       "    </tr>\n",
       "    <tr>\n",
       "      <th>1</th>\n",
       "      <td>Argentina</td>\n",
       "      <td>2020-12-29</td>\n",
       "      <td>Oxford/AstraZeneca</td>\n",
       "      <td>7</td>\n",
       "    </tr>\n",
       "    <tr>\n",
       "      <th>2</th>\n",
       "      <td>Argentina</td>\n",
       "      <td>2020-12-29</td>\n",
       "      <td>Pfizer/BioNTech</td>\n",
       "      <td>1</td>\n",
       "    </tr>\n",
       "    <tr>\n",
       "      <th>3</th>\n",
       "      <td>Argentina</td>\n",
       "      <td>2020-12-29</td>\n",
       "      <td>Sinopharm/Beijing</td>\n",
       "      <td>3</td>\n",
       "    </tr>\n",
       "    <tr>\n",
       "      <th>4</th>\n",
       "      <td>Argentina</td>\n",
       "      <td>2020-12-29</td>\n",
       "      <td>Sputnik V</td>\n",
       "      <td>20484</td>\n",
       "    </tr>\n",
       "  </tbody>\n",
       "</table>\n",
       "</div>"
      ],
      "text/plain": [
       "    location        date             vaccine  total_vaccinations\n",
       "0  Argentina  2020-12-29             Moderna                   2\n",
       "1  Argentina  2020-12-29  Oxford/AstraZeneca                   7\n",
       "2  Argentina  2020-12-29     Pfizer/BioNTech                   1\n",
       "3  Argentina  2020-12-29   Sinopharm/Beijing                   3\n",
       "4  Argentina  2020-12-29           Sputnik V               20484"
      ]
     },
     "execution_count": 219,
     "metadata": {},
     "output_type": "execute_result"
    }
   ],
   "source": [
    "#Repeat above step for remaining two tables as well by changing the table name and variable name of the dataframe\n",
    "response = athena_client.start_query_execution(\n",
    "    QueryString=\"SELECT * FROM vaccinations_by_manufacturer\",\n",
    "    QueryExecutionContext={\"Database\": SCHEMA_NAME},\n",
    "    ResultConfiguration={\n",
    "        \"OutputLocation\": S3_STAGING_DIR,\n",
    "        \"EncryptionConfiguration\": {\"EncryptionOption\": \"SSE_S3\"},\n",
    "    },\n",
    ")\n",
    "response\n",
    "vaccinations_by_manufacturer = download_and_load_query_results(athena_client, response)\n",
    "vaccinations_by_manufacturer.head()"
   ]
  },
  {
   "cell_type": "code",
   "execution_count": 220,
   "id": "e0efcd95",
   "metadata": {},
   "outputs": [
    {
     "data": {
      "text/html": [
       "<div>\n",
       "<style scoped>\n",
       "    .dataframe tbody tr th:only-of-type {\n",
       "        vertical-align: middle;\n",
       "    }\n",
       "\n",
       "    .dataframe tbody tr th {\n",
       "        vertical-align: top;\n",
       "    }\n",
       "\n",
       "    .dataframe thead th {\n",
       "        text-align: right;\n",
       "    }\n",
       "</style>\n",
       "<table border=\"1\" class=\"dataframe\">\n",
       "  <thead>\n",
       "    <tr style=\"text-align: right;\">\n",
       "      <th></th>\n",
       "      <th>col0</th>\n",
       "      <th>col1</th>\n",
       "      <th>col2</th>\n",
       "      <th>col3</th>\n",
       "      <th>col4</th>\n",
       "      <th>col5</th>\n",
       "    </tr>\n",
       "  </thead>\n",
       "  <tbody>\n",
       "    <tr>\n",
       "      <th>0</th>\n",
       "      <td>location</td>\n",
       "      <td>iso_code</td>\n",
       "      <td>vaccines</td>\n",
       "      <td>last_observation_date</td>\n",
       "      <td>source_name</td>\n",
       "      <td>source_website</td>\n",
       "    </tr>\n",
       "    <tr>\n",
       "      <th>1</th>\n",
       "      <td>Afghanistan</td>\n",
       "      <td>AFG</td>\n",
       "      <td>CanSino, Covaxin, Johnson&amp;Johnson, Moderna, Ox...</td>\n",
       "      <td>2022-06-01</td>\n",
       "      <td>World Health Organization</td>\n",
       "      <td>https://covid19.who.int/</td>\n",
       "    </tr>\n",
       "    <tr>\n",
       "      <th>2</th>\n",
       "      <td>Albania</td>\n",
       "      <td>ALB</td>\n",
       "      <td>Oxford/AstraZeneca, Pfizer/BioNTech, Sinovac, ...</td>\n",
       "      <td>2022-05-22</td>\n",
       "      <td>World Health Organization</td>\n",
       "      <td>https://covid19.who.int/</td>\n",
       "    </tr>\n",
       "    <tr>\n",
       "      <th>3</th>\n",
       "      <td>Algeria</td>\n",
       "      <td>DZA</td>\n",
       "      <td>Oxford/AstraZeneca, Sinopharm/Beijing, Sinovac...</td>\n",
       "      <td>2022-05-01</td>\n",
       "      <td>World Health Organization</td>\n",
       "      <td>https://covid19.who.int/</td>\n",
       "    </tr>\n",
       "    <tr>\n",
       "      <th>4</th>\n",
       "      <td>Andorra</td>\n",
       "      <td>AND</td>\n",
       "      <td>Moderna, Oxford/AstraZeneca, Pfizer/BioNTech</td>\n",
       "      <td>2022-05-22</td>\n",
       "      <td>World Health Organization</td>\n",
       "      <td>https://covid19.who.int/</td>\n",
       "    </tr>\n",
       "  </tbody>\n",
       "</table>\n",
       "</div>"
      ],
      "text/plain": [
       "          col0      col1                                               col2  \\\n",
       "0     location  iso_code                                           vaccines   \n",
       "1  Afghanistan       AFG  CanSino, Covaxin, Johnson&Johnson, Moderna, Ox...   \n",
       "2      Albania       ALB  Oxford/AstraZeneca, Pfizer/BioNTech, Sinovac, ...   \n",
       "3      Algeria       DZA  Oxford/AstraZeneca, Sinopharm/Beijing, Sinovac...   \n",
       "4      Andorra       AND       Moderna, Oxford/AstraZeneca, Pfizer/BioNTech   \n",
       "\n",
       "                    col3                       col4                      col5  \n",
       "0  last_observation_date                source_name            source_website  \n",
       "1             2022-06-01  World Health Organization  https://covid19.who.int/  \n",
       "2             2022-05-22  World Health Organization  https://covid19.who.int/  \n",
       "3             2022-05-01  World Health Organization  https://covid19.who.int/  \n",
       "4             2022-05-22  World Health Organization  https://covid19.who.int/  "
      ]
     },
     "execution_count": 220,
     "metadata": {},
     "output_type": "execute_result"
    }
   ],
   "source": [
    "response = athena_client.start_query_execution(\n",
    "    QueryString=\"SELECT * FROM location\",\n",
    "    QueryExecutionContext={\"Database\": SCHEMA_NAME},\n",
    "    ResultConfiguration={\n",
    "        \"OutputLocation\": S3_STAGING_DIR,\n",
    "        \"EncryptionConfiguration\": {\"EncryptionOption\": \"SSE_S3\"},\n",
    "    },\n",
    ")\n",
    "response\n",
    "location = download_and_load_query_results(athena_client, response)\n",
    "location.head()"
   ]
  },
  {
   "cell_type": "code",
   "execution_count": 221,
   "id": "03d2e867",
   "metadata": {},
   "outputs": [
    {
     "data": {
      "text/html": [
       "<div>\n",
       "<style scoped>\n",
       "    .dataframe tbody tr th:only-of-type {\n",
       "        vertical-align: middle;\n",
       "    }\n",
       "\n",
       "    .dataframe tbody tr th {\n",
       "        vertical-align: top;\n",
       "    }\n",
       "\n",
       "    .dataframe thead th {\n",
       "        text-align: right;\n",
       "    }\n",
       "</style>\n",
       "<table border=\"1\" class=\"dataframe\">\n",
       "  <thead>\n",
       "    <tr style=\"text-align: right;\">\n",
       "      <th></th>\n",
       "      <th>location</th>\n",
       "      <th>iso_code</th>\n",
       "      <th>vaccines</th>\n",
       "      <th>last_observation_date</th>\n",
       "      <th>source_name</th>\n",
       "      <th>source_website</th>\n",
       "    </tr>\n",
       "  </thead>\n",
       "  <tbody>\n",
       "    <tr>\n",
       "      <th>1</th>\n",
       "      <td>Afghanistan</td>\n",
       "      <td>AFG</td>\n",
       "      <td>CanSino, Covaxin, Johnson&amp;Johnson, Moderna, Ox...</td>\n",
       "      <td>2022-06-01</td>\n",
       "      <td>World Health Organization</td>\n",
       "      <td>https://covid19.who.int/</td>\n",
       "    </tr>\n",
       "    <tr>\n",
       "      <th>2</th>\n",
       "      <td>Albania</td>\n",
       "      <td>ALB</td>\n",
       "      <td>Oxford/AstraZeneca, Pfizer/BioNTech, Sinovac, ...</td>\n",
       "      <td>2022-05-22</td>\n",
       "      <td>World Health Organization</td>\n",
       "      <td>https://covid19.who.int/</td>\n",
       "    </tr>\n",
       "    <tr>\n",
       "      <th>3</th>\n",
       "      <td>Algeria</td>\n",
       "      <td>DZA</td>\n",
       "      <td>Oxford/AstraZeneca, Sinopharm/Beijing, Sinovac...</td>\n",
       "      <td>2022-05-01</td>\n",
       "      <td>World Health Organization</td>\n",
       "      <td>https://covid19.who.int/</td>\n",
       "    </tr>\n",
       "    <tr>\n",
       "      <th>4</th>\n",
       "      <td>Andorra</td>\n",
       "      <td>AND</td>\n",
       "      <td>Moderna, Oxford/AstraZeneca, Pfizer/BioNTech</td>\n",
       "      <td>2022-05-22</td>\n",
       "      <td>World Health Organization</td>\n",
       "      <td>https://covid19.who.int/</td>\n",
       "    </tr>\n",
       "    <tr>\n",
       "      <th>5</th>\n",
       "      <td>Angola</td>\n",
       "      <td>AGO</td>\n",
       "      <td>Oxford/AstraZeneca</td>\n",
       "      <td>2022-05-22</td>\n",
       "      <td>World Health Organization</td>\n",
       "      <td>https://covid19.who.int/</td>\n",
       "    </tr>\n",
       "  </tbody>\n",
       "</table>\n",
       "</div>"
      ],
      "text/plain": [
       "0     location iso_code                                           vaccines  \\\n",
       "1  Afghanistan      AFG  CanSino, Covaxin, Johnson&Johnson, Moderna, Ox...   \n",
       "2      Albania      ALB  Oxford/AstraZeneca, Pfizer/BioNTech, Sinovac, ...   \n",
       "3      Algeria      DZA  Oxford/AstraZeneca, Sinopharm/Beijing, Sinovac...   \n",
       "4      Andorra      AND       Moderna, Oxford/AstraZeneca, Pfizer/BioNTech   \n",
       "5       Angola      AGO                                 Oxford/AstraZeneca   \n",
       "\n",
       "0 last_observation_date                source_name            source_website  \n",
       "1            2022-06-01  World Health Organization  https://covid19.who.int/  \n",
       "2            2022-05-22  World Health Organization  https://covid19.who.int/  \n",
       "3            2022-05-01  World Health Organization  https://covid19.who.int/  \n",
       "4            2022-05-22  World Health Organization  https://covid19.who.int/  \n",
       "5            2022-05-22  World Health Organization  https://covid19.who.int/  "
      ]
     },
     "execution_count": 221,
     "metadata": {},
     "output_type": "execute_result"
    }
   ],
   "source": [
    "#Fixing the column names in location table by using iloc function in pandas.This is a data cleaning step.\n",
    "#get the first row\n",
    "new_column_name = location.iloc[0]\n",
    "#remove the first row and store in the same data frame\n",
    "location = location[1:]\n",
    "#assign location column names with new column name stored above\n",
    "location.columns = new_column_name\n",
    "location.head()"
   ]
  },
  {
   "cell_type": "code",
   "execution_count": 222,
   "id": "fdcfbccf",
   "metadata": {},
   "outputs": [
    {
     "data": {
      "text/html": [
       "<div>\n",
       "<style scoped>\n",
       "    .dataframe tbody tr th:only-of-type {\n",
       "        vertical-align: middle;\n",
       "    }\n",
       "\n",
       "    .dataframe tbody tr th {\n",
       "        vertical-align: top;\n",
       "    }\n",
       "\n",
       "    .dataframe thead th {\n",
       "        text-align: right;\n",
       "    }\n",
       "</style>\n",
       "<table border=\"1\" class=\"dataframe\">\n",
       "  <thead>\n",
       "    <tr style=\"text-align: right;\">\n",
       "      <th></th>\n",
       "      <th>location</th>\n",
       "      <th>vaccines</th>\n",
       "    </tr>\n",
       "  </thead>\n",
       "  <tbody>\n",
       "    <tr>\n",
       "      <th>1</th>\n",
       "      <td>Afghanistan</td>\n",
       "      <td>CanSino, Covaxin, Johnson&amp;Johnson, Moderna, Ox...</td>\n",
       "    </tr>\n",
       "    <tr>\n",
       "      <th>2</th>\n",
       "      <td>Albania</td>\n",
       "      <td>Oxford/AstraZeneca, Pfizer/BioNTech, Sinovac, ...</td>\n",
       "    </tr>\n",
       "    <tr>\n",
       "      <th>3</th>\n",
       "      <td>Algeria</td>\n",
       "      <td>Oxford/AstraZeneca, Sinopharm/Beijing, Sinovac...</td>\n",
       "    </tr>\n",
       "    <tr>\n",
       "      <th>4</th>\n",
       "      <td>Andorra</td>\n",
       "      <td>Moderna, Oxford/AstraZeneca, Pfizer/BioNTech</td>\n",
       "    </tr>\n",
       "    <tr>\n",
       "      <th>5</th>\n",
       "      <td>Angola</td>\n",
       "      <td>Oxford/AstraZeneca</td>\n",
       "    </tr>\n",
       "  </tbody>\n",
       "</table>\n",
       "</div>"
      ],
      "text/plain": [
       "0     location                                           vaccines\n",
       "1  Afghanistan  CanSino, Covaxin, Johnson&Johnson, Moderna, Ox...\n",
       "2      Albania  Oxford/AstraZeneca, Pfizer/BioNTech, Sinovac, ...\n",
       "3      Algeria  Oxford/AstraZeneca, Sinopharm/Beijing, Sinovac...\n",
       "4      Andorra       Moderna, Oxford/AstraZeneca, Pfizer/BioNTech\n",
       "5       Angola                                 Oxford/AstraZeneca"
      ]
     },
     "execution_count": 222,
     "metadata": {},
     "output_type": "execute_result"
    }
   ],
   "source": [
    "#Fetching only location and vaccines from location and storing in new data frame\n",
    "location_and_vaccines = location[['location','vaccines']]\n",
    "location_and_vaccines.head()"
   ]
  },
  {
   "cell_type": "code",
   "execution_count": 223,
   "id": "6e51fbc1",
   "metadata": {},
   "outputs": [
    {
     "name": "stderr",
     "output_type": "stream",
     "text": [
      "/var/folders/0n/rbsnm7dj6r567xfgpjyvkx440000gn/T/ipykernel_85427/2641038401.py:3: SettingWithCopyWarning: \n",
      "A value is trying to be set on a copy of a slice from a DataFrame.\n",
      "Try using .loc[row_indexer,col_indexer] = value instead\n",
      "\n",
      "See the caveats in the documentation: https://pandas.pydata.org/pandas-docs/stable/user_guide/indexing.html#returning-a-view-versus-a-copy\n",
      "  location_and_last_observation_date['last_observation_date'] = pd.to_datetime(location_and_last_observation_date['last_observation_date'])\n"
     ]
    },
    {
     "data": {
      "text/html": [
       "<div>\n",
       "<style scoped>\n",
       "    .dataframe tbody tr th:only-of-type {\n",
       "        vertical-align: middle;\n",
       "    }\n",
       "\n",
       "    .dataframe tbody tr th {\n",
       "        vertical-align: top;\n",
       "    }\n",
       "\n",
       "    .dataframe thead th {\n",
       "        text-align: right;\n",
       "    }\n",
       "</style>\n",
       "<table border=\"1\" class=\"dataframe\">\n",
       "  <thead>\n",
       "    <tr style=\"text-align: right;\">\n",
       "      <th></th>\n",
       "      <th>location</th>\n",
       "      <th>last_observation_date</th>\n",
       "    </tr>\n",
       "  </thead>\n",
       "  <tbody>\n",
       "    <tr>\n",
       "      <th>1</th>\n",
       "      <td>Afghanistan</td>\n",
       "      <td>2022-06-01</td>\n",
       "    </tr>\n",
       "    <tr>\n",
       "      <th>2</th>\n",
       "      <td>Albania</td>\n",
       "      <td>2022-05-22</td>\n",
       "    </tr>\n",
       "    <tr>\n",
       "      <th>3</th>\n",
       "      <td>Algeria</td>\n",
       "      <td>2022-05-01</td>\n",
       "    </tr>\n",
       "    <tr>\n",
       "      <th>4</th>\n",
       "      <td>Andorra</td>\n",
       "      <td>2022-05-22</td>\n",
       "    </tr>\n",
       "    <tr>\n",
       "      <th>5</th>\n",
       "      <td>Angola</td>\n",
       "      <td>2022-05-22</td>\n",
       "    </tr>\n",
       "  </tbody>\n",
       "</table>\n",
       "</div>"
      ],
      "text/plain": [
       "0     location last_observation_date\n",
       "1  Afghanistan            2022-06-01\n",
       "2      Albania            2022-05-22\n",
       "3      Algeria            2022-05-01\n",
       "4      Andorra            2022-05-22\n",
       "5       Angola            2022-05-22"
      ]
     },
     "execution_count": 223,
     "metadata": {},
     "output_type": "execute_result"
    }
   ],
   "source": [
    "#Fetching only location and last_observation_date from location and storing in new data frame\n",
    "location_and_last_observation_date = location[['location','last_observation_date']]\n",
    "location_and_last_observation_date['last_observation_date'] = pd.to_datetime(location_and_last_observation_date['last_observation_date'])\n",
    "location_and_last_observation_date.head()"
   ]
  },
  {
   "cell_type": "code",
   "execution_count": 224,
   "id": "7cc5861e",
   "metadata": {},
   "outputs": [
    {
     "data": {
      "text/html": [
       "<div>\n",
       "<style scoped>\n",
       "    .dataframe tbody tr th:only-of-type {\n",
       "        vertical-align: middle;\n",
       "    }\n",
       "\n",
       "    .dataframe tbody tr th {\n",
       "        vertical-align: top;\n",
       "    }\n",
       "\n",
       "    .dataframe thead th {\n",
       "        text-align: right;\n",
       "    }\n",
       "</style>\n",
       "<table border=\"1\" class=\"dataframe\">\n",
       "  <thead>\n",
       "    <tr style=\"text-align: right;\">\n",
       "      <th></th>\n",
       "      <th>vaccine</th>\n",
       "      <th>total_vaccinations</th>\n",
       "    </tr>\n",
       "  </thead>\n",
       "  <tbody>\n",
       "    <tr>\n",
       "      <th>0</th>\n",
       "      <td>Moderna</td>\n",
       "      <td>2</td>\n",
       "    </tr>\n",
       "    <tr>\n",
       "      <th>1</th>\n",
       "      <td>Oxford/AstraZeneca</td>\n",
       "      <td>7</td>\n",
       "    </tr>\n",
       "    <tr>\n",
       "      <th>2</th>\n",
       "      <td>Pfizer/BioNTech</td>\n",
       "      <td>1</td>\n",
       "    </tr>\n",
       "    <tr>\n",
       "      <th>3</th>\n",
       "      <td>Sinopharm/Beijing</td>\n",
       "      <td>3</td>\n",
       "    </tr>\n",
       "    <tr>\n",
       "      <th>4</th>\n",
       "      <td>Sputnik V</td>\n",
       "      <td>20484</td>\n",
       "    </tr>\n",
       "  </tbody>\n",
       "</table>\n",
       "</div>"
      ],
      "text/plain": [
       "              vaccine  total_vaccinations\n",
       "0             Moderna                   2\n",
       "1  Oxford/AstraZeneca                   7\n",
       "2     Pfizer/BioNTech                   1\n",
       "3   Sinopharm/Beijing                   3\n",
       "4           Sputnik V               20484"
      ]
     },
     "execution_count": 224,
     "metadata": {},
     "output_type": "execute_result"
    }
   ],
   "source": [
    "#Fetching only vaccine and total_vaccinations from vaccinations_by_manufacturer and storing in new data frame\n",
    "vaccinations_by_manufacturer_and_total_vaccinations = vaccinations_by_manufacturer[['vaccine','total_vaccinations']]\n",
    "\n",
    "vaccinations_by_manufacturer_and_total_vaccinations.head()"
   ]
  },
  {
   "cell_type": "code",
   "execution_count": 225,
   "id": "d5bd7c5b",
   "metadata": {},
   "outputs": [
    {
     "data": {
      "text/html": [
       "<div>\n",
       "<style scoped>\n",
       "    .dataframe tbody tr th:only-of-type {\n",
       "        vertical-align: middle;\n",
       "    }\n",
       "\n",
       "    .dataframe tbody tr th {\n",
       "        vertical-align: top;\n",
       "    }\n",
       "\n",
       "    .dataframe thead th {\n",
       "        text-align: right;\n",
       "    }\n",
       "</style>\n",
       "<table border=\"1\" class=\"dataframe\">\n",
       "  <thead>\n",
       "    <tr style=\"text-align: right;\">\n",
       "      <th></th>\n",
       "      <th>location</th>\n",
       "      <th>daily_vaccinations</th>\n",
       "    </tr>\n",
       "  </thead>\n",
       "  <tbody>\n",
       "    <tr>\n",
       "      <th>0</th>\n",
       "      <td>Afghanistan</td>\n",
       "      <td>NaN</td>\n",
       "    </tr>\n",
       "    <tr>\n",
       "      <th>1</th>\n",
       "      <td>Afghanistan</td>\n",
       "      <td>1367.0</td>\n",
       "    </tr>\n",
       "    <tr>\n",
       "      <th>2</th>\n",
       "      <td>Afghanistan</td>\n",
       "      <td>1367.0</td>\n",
       "    </tr>\n",
       "    <tr>\n",
       "      <th>3</th>\n",
       "      <td>Afghanistan</td>\n",
       "      <td>1367.0</td>\n",
       "    </tr>\n",
       "    <tr>\n",
       "      <th>4</th>\n",
       "      <td>Afghanistan</td>\n",
       "      <td>1367.0</td>\n",
       "    </tr>\n",
       "  </tbody>\n",
       "</table>\n",
       "</div>"
      ],
      "text/plain": [
       "      location  daily_vaccinations\n",
       "0  Afghanistan                 NaN\n",
       "1  Afghanistan              1367.0\n",
       "2  Afghanistan              1367.0\n",
       "3  Afghanistan              1367.0\n",
       "4  Afghanistan              1367.0"
      ]
     },
     "execution_count": 225,
     "metadata": {},
     "output_type": "execute_result"
    }
   ],
   "source": [
    "#Fetching only location and daily_vaccinations from vaccinations and storing in new data frame\n",
    "location_and_daily_vaccinations = vaccinations[['location','daily_vaccinations']]\n",
    "location_and_daily_vaccinations.head()"
   ]
  },
  {
   "cell_type": "code",
   "execution_count": 26,
   "id": "a9dc7ab9",
   "metadata": {},
   "outputs": [
    {
     "name": "stdout",
     "output_type": "stream",
     "text": [
      "<class 'pandas.core.frame.DataFrame'>\n",
      "RangeIndex: 106528 entries, 0 to 106527\n",
      "Data columns (total 2 columns):\n",
      " #   Column              Non-Null Count   Dtype  \n",
      "---  ------              --------------   -----  \n",
      " 0   location            106528 non-null  object \n",
      " 1   daily_vaccinations  106089 non-null  float64\n",
      "dtypes: float64(1), object(1)\n",
      "memory usage: 1.6+ MB\n"
     ]
    }
   ],
   "source": [
    "location_and_daily_vaccinations.info()"
   ]
  },
  {
   "cell_type": "code",
   "execution_count": 27,
   "id": "baf754c9",
   "metadata": {},
   "outputs": [
    {
     "name": "stdout",
     "output_type": "stream",
     "text": [
      "<class 'pandas.core.frame.DataFrame'>\n",
      "RangeIndex: 42763 entries, 0 to 42762\n",
      "Data columns (total 2 columns):\n",
      " #   Column              Non-Null Count  Dtype \n",
      "---  ------              --------------  ----- \n",
      " 0   vaccine             42763 non-null  object\n",
      " 1   total_vaccinations  42763 non-null  int64 \n",
      "dtypes: int64(1), object(1)\n",
      "memory usage: 668.3+ KB\n"
     ]
    }
   ],
   "source": [
    "vaccinations_by_manufacturer_and_total_vaccinations.info()"
   ]
  },
  {
   "cell_type": "code",
   "execution_count": 28,
   "id": "7bfcb113",
   "metadata": {},
   "outputs": [
    {
     "data": {
      "text/plain": [
       "vaccine               0\n",
       "total_vaccinations    0\n",
       "dtype: int64"
      ]
     },
     "execution_count": 28,
     "metadata": {},
     "output_type": "execute_result"
    }
   ],
   "source": [
    "vaccinations_by_manufacturer_and_total_vaccinations.isnull().sum()"
   ]
  },
  {
   "cell_type": "code",
   "execution_count": 29,
   "id": "ca3ede26",
   "metadata": {},
   "outputs": [
    {
     "data": {
      "text/plain": [
       "vaccine               0\n",
       "total_vaccinations    0\n",
       "dtype: int64"
      ]
     },
     "execution_count": 29,
     "metadata": {},
     "output_type": "execute_result"
    }
   ],
   "source": [
    "vaccinations_by_manufacturer_and_total_vaccinations.isnull().sum()"
   ]
  },
  {
   "cell_type": "code",
   "execution_count": 226,
   "id": "e3ea8679",
   "metadata": {},
   "outputs": [
    {
     "name": "stderr",
     "output_type": "stream",
     "text": [
      "/var/folders/0n/rbsnm7dj6r567xfgpjyvkx440000gn/T/ipykernel_85427/1123504255.py:2: SettingWithCopyWarning: \n",
      "A value is trying to be set on a copy of a slice from a DataFrame.\n",
      "Try using .loc[row_indexer,col_indexer] = value instead\n",
      "\n",
      "See the caveats in the documentation: https://pandas.pydata.org/pandas-docs/stable/user_guide/indexing.html#returning-a-view-versus-a-copy\n",
      "  vaccinations_by_manufacturer_and_total_vaccinations['total_vaccinations'] = vaccinations_by_manufacturer_and_total_vaccinations['total_vaccinations'].fillna(0)\n"
     ]
    },
    {
     "data": {
      "text/html": [
       "<div>\n",
       "<style scoped>\n",
       "    .dataframe tbody tr th:only-of-type {\n",
       "        vertical-align: middle;\n",
       "    }\n",
       "\n",
       "    .dataframe tbody tr th {\n",
       "        vertical-align: top;\n",
       "    }\n",
       "\n",
       "    .dataframe thead th {\n",
       "        text-align: right;\n",
       "    }\n",
       "</style>\n",
       "<table border=\"1\" class=\"dataframe\">\n",
       "  <thead>\n",
       "    <tr style=\"text-align: right;\">\n",
       "      <th></th>\n",
       "      <th>vaccine</th>\n",
       "      <th>total_vaccinations</th>\n",
       "    </tr>\n",
       "  </thead>\n",
       "  <tbody>\n",
       "    <tr>\n",
       "      <th>0</th>\n",
       "      <td>Moderna</td>\n",
       "      <td>2</td>\n",
       "    </tr>\n",
       "    <tr>\n",
       "      <th>1</th>\n",
       "      <td>Oxford/AstraZeneca</td>\n",
       "      <td>7</td>\n",
       "    </tr>\n",
       "    <tr>\n",
       "      <th>2</th>\n",
       "      <td>Pfizer/BioNTech</td>\n",
       "      <td>1</td>\n",
       "    </tr>\n",
       "    <tr>\n",
       "      <th>3</th>\n",
       "      <td>Sinopharm/Beijing</td>\n",
       "      <td>3</td>\n",
       "    </tr>\n",
       "    <tr>\n",
       "      <th>4</th>\n",
       "      <td>Sputnik V</td>\n",
       "      <td>20484</td>\n",
       "    </tr>\n",
       "  </tbody>\n",
       "</table>\n",
       "</div>"
      ],
      "text/plain": [
       "              vaccine  total_vaccinations\n",
       "0             Moderna                   2\n",
       "1  Oxford/AstraZeneca                   7\n",
       "2     Pfizer/BioNTech                   1\n",
       "3   Sinopharm/Beijing                   3\n",
       "4           Sputnik V               20484"
      ]
     },
     "execution_count": 226,
     "metadata": {},
     "output_type": "execute_result"
    }
   ],
   "source": [
    "#Fill na values of total_vaccinations column as 0\n",
    "vaccinations_by_manufacturer_and_total_vaccinations['total_vaccinations'] = vaccinations_by_manufacturer_and_total_vaccinations['total_vaccinations'].fillna(0)\n",
    "vaccinations_by_manufacturer_and_total_vaccinations.head()"
   ]
  },
  {
   "cell_type": "code",
   "execution_count": 227,
   "id": "c7ee9096",
   "metadata": {},
   "outputs": [
    {
     "name": "stderr",
     "output_type": "stream",
     "text": [
      "/var/folders/0n/rbsnm7dj6r567xfgpjyvkx440000gn/T/ipykernel_85427/3468044109.py:2: SettingWithCopyWarning: \n",
      "A value is trying to be set on a copy of a slice from a DataFrame.\n",
      "Try using .loc[row_indexer,col_indexer] = value instead\n",
      "\n",
      "See the caveats in the documentation: https://pandas.pydata.org/pandas-docs/stable/user_guide/indexing.html#returning-a-view-versus-a-copy\n",
      "  location_and_daily_vaccinations['daily_vaccinations'] = location_and_daily_vaccinations['daily_vaccinations'].fillna(0)\n"
     ]
    },
    {
     "data": {
      "text/html": [
       "<div>\n",
       "<style scoped>\n",
       "    .dataframe tbody tr th:only-of-type {\n",
       "        vertical-align: middle;\n",
       "    }\n",
       "\n",
       "    .dataframe tbody tr th {\n",
       "        vertical-align: top;\n",
       "    }\n",
       "\n",
       "    .dataframe thead th {\n",
       "        text-align: right;\n",
       "    }\n",
       "</style>\n",
       "<table border=\"1\" class=\"dataframe\">\n",
       "  <thead>\n",
       "    <tr style=\"text-align: right;\">\n",
       "      <th></th>\n",
       "      <th>location</th>\n",
       "      <th>daily_vaccinations</th>\n",
       "    </tr>\n",
       "  </thead>\n",
       "  <tbody>\n",
       "    <tr>\n",
       "      <th>0</th>\n",
       "      <td>Afghanistan</td>\n",
       "      <td>0.0</td>\n",
       "    </tr>\n",
       "    <tr>\n",
       "      <th>1</th>\n",
       "      <td>Afghanistan</td>\n",
       "      <td>1367.0</td>\n",
       "    </tr>\n",
       "    <tr>\n",
       "      <th>2</th>\n",
       "      <td>Afghanistan</td>\n",
       "      <td>1367.0</td>\n",
       "    </tr>\n",
       "    <tr>\n",
       "      <th>3</th>\n",
       "      <td>Afghanistan</td>\n",
       "      <td>1367.0</td>\n",
       "    </tr>\n",
       "    <tr>\n",
       "      <th>4</th>\n",
       "      <td>Afghanistan</td>\n",
       "      <td>1367.0</td>\n",
       "    </tr>\n",
       "  </tbody>\n",
       "</table>\n",
       "</div>"
      ],
      "text/plain": [
       "      location  daily_vaccinations\n",
       "0  Afghanistan                 0.0\n",
       "1  Afghanistan              1367.0\n",
       "2  Afghanistan              1367.0\n",
       "3  Afghanistan              1367.0\n",
       "4  Afghanistan              1367.0"
      ]
     },
     "execution_count": 227,
     "metadata": {},
     "output_type": "execute_result"
    }
   ],
   "source": [
    "#Fill na values of daily_vaccinations column of location_and_daily_vaccinations as 0\n",
    "location_and_daily_vaccinations['daily_vaccinations'] = location_and_daily_vaccinations['daily_vaccinations'].fillna(0)\n",
    "location_and_daily_vaccinations.head()"
   ]
  },
  {
   "cell_type": "code",
   "execution_count": 228,
   "id": "968f703b",
   "metadata": {},
   "outputs": [
    {
     "data": {
      "text/plain": [
       "<_io.StringIO at 0x120a371c0>"
      ]
     },
     "execution_count": 228,
     "metadata": {},
     "output_type": "execute_result"
    }
   ],
   "source": [
    "#Currently we have all the required data from all three tables in following 4 dataframes\n",
    "#location_and_vaccines, location_and_last_observation_date, vaccinations_by_manufacturer_and_total_vaccinations,location_and_daily_vaccinations\n",
    "#Storing all these to an S3 bucket\n",
    "bucket = \"bigdata-covid-project\"\n",
    "csv_buffer = StringIO()\n",
    "csv_buffer"
   ]
  },
  {
   "cell_type": "code",
   "execution_count": 229,
   "id": "ff4a67d8",
   "metadata": {
    "scrolled": true
   },
   "outputs": [
    {
     "data": {
      "text/plain": [
       "',location,vaccines\\n1,Afghanistan,\"CanSino, Covaxin, Johnson&Johnson, Moderna, Oxford/AstraZeneca, Pfizer/BioNTech, Sinopharm/Beijing, Sinovac, Sputnik Light, Sputnik V\"\\n2,Albania,\"Oxford/AstraZeneca, Pfizer/BioNTech, Sinovac, Sputnik V\"\\n3,Algeria,\"Oxford/AstraZeneca, Sinopharm/Beijing, Sinovac, Sputnik V\"\\n4,Andorra,\"Moderna, Oxford/AstraZeneca, Pfizer/BioNTech\"\\n5,Angola,Oxford/AstraZeneca\\n6,Anguilla,\"Oxford/AstraZeneca, Pfizer/BioNTech\"\\n7,Antigua and Barbuda,\"Oxford/AstraZeneca, Pfizer/BioNTech, Sputnik V\"\\n8,Argentina,\"CanSino, Moderna, Oxford/AstraZeneca, Pfizer/BioNTech, Sinopharm/Beijing, Sputnik V\"\\n9,Armenia,\"Moderna, Oxford/AstraZeneca, Pfizer/BioNTech, Sinopharm/Beijing, Sinopharm/Wuhan, Sinovac, Sputnik Light, Sputnik V\"\\n10,Aruba,Pfizer/BioNTech\\n11,Australia,\"Moderna, Novavax, Oxford/AstraZeneca, Pfizer/BioNTech\"\\n12,Austria,\"Johnson&Johnson, Moderna, Novavax, Oxford/AstraZeneca, Pfizer/BioNTech\"\\n13,Azerbaijan,\"Oxford/AstraZeneca, Pfizer/BioNTech, Sinovac, Sputnik V\"\\n14,Bahamas,\"Johnson&Johnson, Oxford/AstraZeneca, Pfizer/BioNTech\"\\n15,Bahrain,\"Oxford/AstraZeneca, Pfizer/BioNTech, Sinopharm/Beijing, Sputnik V\"\\n16,Bangladesh,\"Johnson&Johnson, Moderna, Oxford/AstraZeneca, Pfizer/BioNTech, Sinopharm/Beijing, Sinovac\"\\n17,Barbados,\"Oxford/AstraZeneca, Pfizer/BioNTech, Sinopharm/Beijing\"\\n18,Belarus,\"KoviVac/Chumakov, Sinopharm/Beijing, Sputnik Light, Sputnik V\"\\n19,Belgium,\"Johnson&Johnson, Moderna, Novavax, Oxford/AstraZeneca, Pfizer/BioNTech\"\\n20,Belize,\"Johnson&Johnson, Oxford/AstraZeneca, Pfizer/BioNTech, Sinopharm/Beijing\"\\n21,Benin,\"Johnson&Johnson, Oxford/AstraZeneca, Pfizer/BioNTech, Sinovac\"\\n22,Bermuda,\"Oxford/AstraZeneca, Pfizer/BioNTech\"\\n23,Bhutan,\"Moderna, Oxford/AstraZeneca, Pfizer/BioNTech, Sinopharm/Beijing\"\\n24,Bolivia,\"Johnson&Johnson, Oxford/AstraZeneca, Pfizer/BioNTech, Sinopharm/Beijing, Sputnik V\"\\n25,Bonaire Sint Eustatius and Saba,\"Moderna, Pfizer/BioNTech\"\\n26,Bosnia and Herzegovina,\"Oxford/AstraZeneca, Pfizer/BioNTech, Sinovac, Sputnik V\"\\n27,Botswana,\"Covaxin, Johnson&Johnson, Moderna, Oxford/AstraZeneca, Pfizer/BioNTech, Sinovac\"\\n28,Brazil,\"Johnson&Johnson, Oxford/AstraZeneca, Pfizer/BioNTech, Sinovac\"\\n29,British Virgin Islands,\"Johnson&Johnson, Oxford/AstraZeneca\"\\n30,Brunei,\"Johnson&Johnson, Moderna, Oxford/AstraZeneca, Pfizer/BioNTech, Sinopharm/Beijing\"\\n31,Bulgaria,\"Johnson&Johnson, Moderna, Oxford/AstraZeneca, Pfizer/BioNTech\"\\n32,Burkina Faso,\"Johnson&Johnson, Oxford/AstraZeneca, Sinopharm/Beijing\"\\n33,Burundi,\"Johnson&Johnson, Sinopharm/Beijing\"\\n34,Cambodia,\"Johnson&Johnson, Moderna, Oxford/AstraZeneca, Pfizer/BioNTech, Sinopharm/Beijing, Sinovac\"\\n35,Cameroon,\"Johnson&Johnson, Oxford/AstraZeneca, Pfizer/BioNTech, Sinopharm/Beijing\"\\n36,Canada,\"Johnson&Johnson, Moderna, Novavax, Oxford/AstraZeneca, Pfizer/BioNTech\"\\n37,Cape Verde,\"Moderna, Oxford/AstraZeneca, Pfizer/BioNTech, Sinopharm/Beijing\"\\n38,Cayman Islands,\"Oxford/AstraZeneca, Pfizer/BioNTech\"\\n39,Central African Republic,\"Covaxin, Oxford/AstraZeneca\"\\n40,Chad,Sinopharm/Beijing\\n41,Chile,\"CanSino, Moderna, Oxford/AstraZeneca, Pfizer/BioNTech, Sinovac\"\\n42,China,\"CanSino, IMBCAMS, KCONVAC, Sinopharm/Beijing, Sinopharm/Wuhan, Sinovac, ZF2001\"\\n43,Colombia,\"Johnson&Johnson, Moderna, Oxford/AstraZeneca, Pfizer/BioNTech, Sinovac\"\\n44,Comoros,\"Covaxin, Oxford/AstraZeneca, Sinopharm/Beijing\"\\n45,Congo,\"Moderna, Oxford/AstraZeneca, Sinopharm/Beijing, Sputnik V\"\\n46,Cook Islands,Pfizer/BioNTech\\n47,Costa Rica,\"Oxford/AstraZeneca, Pfizer/BioNTech\"\\n48,Cote d\\'Ivoire,\"Johnson&Johnson, Oxford/AstraZeneca, Pfizer/BioNTech, Sinopharm/Beijing, Sputnik V\"\\n49,Croatia,\"Johnson&Johnson, Moderna, Novavax, Oxford/AstraZeneca, Pfizer/BioNTech\"\\n50,Cuba,\"Abdala, Soberana Plus, Soberana02\"\\n51,Curacao,\"Moderna, Pfizer/BioNTech\"\\n52,Cyprus,\"Johnson&Johnson, Moderna, Novavax, Oxford/AstraZeneca, Pfizer/BioNTech\"\\n53,Czechia,\"Johnson&Johnson, Moderna, Novavax, Oxford/AstraZeneca, Pfizer/BioNTech\"\\n54,Democratic Republic of Congo,Oxford/AstraZeneca\\n55,Denmark,\"Johnson&Johnson, Moderna, Pfizer/BioNTech\"\\n56,Djibouti,\"CanSino, Covaxin, Johnson&Johnson, Moderna, Oxford/AstraZeneca, Pfizer/BioNTech, Sinopharm/Beijing, Sinovac, Sputnik Light, Sputnik V\"\\n57,Dominica,\"Oxford/AstraZeneca, Pfizer/BioNTech, Sinopharm/Beijing\"\\n58,Dominican Republic,\"Oxford/AstraZeneca, Pfizer/BioNTech, Sinopharm/Beijing, Sinovac\"\\n59,Ecuador,\"CanSino, Oxford/AstraZeneca, Pfizer/BioNTech, Sinovac\"\\n60,Egypt,\"CanSino, Covaxin, Johnson&Johnson, Moderna, Oxford/AstraZeneca, Pfizer/BioNTech, Sinopharm/Beijing, Sinovac, Sputnik Light, Sputnik V\"\\n61,El Salvador,\"Oxford/AstraZeneca, Pfizer/BioNTech, Sinopharm/Beijing, Sinovac\"\\n62,England,\"Moderna, Oxford/AstraZeneca, Pfizer/BioNTech\"\\n63,Equatorial Guinea,\"Sinopharm/Beijing, Sinovac\"\\n64,Estonia,\"Johnson&Johnson, Moderna, Novavax, Oxford/AstraZeneca, Pfizer/BioNTech\"\\n65,Eswatini,\"Johnson&Johnson, Oxford/AstraZeneca, Pfizer/BioNTech\"\\n66,Ethiopia,\"Covaxin, Johnson&Johnson, Oxford/AstraZeneca, Sinopharm/Beijing, Sinovac\"\\n67,Faeroe Islands,\"Moderna, Pfizer/BioNTech\"\\n68,Falkland Islands,Oxford/AstraZeneca\\n69,Fiji,\"Moderna, Oxford/AstraZeneca, Pfizer/BioNTech\"\\n70,Finland,\"Moderna, Oxford/AstraZeneca, Pfizer/BioNTech\"\\n71,France,\"Johnson&Johnson, Moderna, Novavax, Oxford/AstraZeneca, Pfizer/BioNTech\"\\n72,French Polynesia,\"Johnson&Johnson, Pfizer/BioNTech\"\\n73,Gabon,\"Pfizer/BioNTech, Sinopharm/Beijing, Sputnik V\"\\n74,Gambia,\"Johnson&Johnson, Oxford/AstraZeneca, Sinopharm/Beijing\"\\n75,Georgia,\"Oxford/AstraZeneca, Pfizer/BioNTech, Sinopharm/Beijing, Sinovac\"\\n76,Germany,\"Johnson&Johnson, Moderna, Novavax, Oxford/AstraZeneca, Pfizer/BioNTech\"\\n77,Ghana,\"Oxford/AstraZeneca, Sputnik V\"\\n78,Gibraltar,\"Oxford/AstraZeneca, Pfizer/BioNTech\"\\n79,Greece,\"Johnson&Johnson, Moderna, Novavax, Oxford/AstraZeneca, Pfizer/BioNTech\"\\n80,Greenland,Moderna\\n81,Grenada,\"Johnson&Johnson, Oxford/AstraZeneca, Pfizer/BioNTech\"\\n82,Guatemala,\"Moderna, Oxford/AstraZeneca, Pfizer/BioNTech, Sputnik V\"\\n83,Guernsey,\"Moderna, Oxford/AstraZeneca, Pfizer/BioNTech\"\\n84,Guinea,\"Johnson&Johnson, Oxford/AstraZeneca, Pfizer/BioNTech, Sinopharm/Beijing, Sinovac, Sputnik V\"\\n85,Guinea-Bissau,\"Oxford/AstraZeneca, Sinopharm/Beijing\"\\n86,Guyana,\"Johnson&Johnson, Moderna, Oxford/AstraZeneca, Pfizer/BioNTech, Sinopharm/Beijing, Sputnik V\"\\n87,Haiti,\"Johnson&Johnson, Moderna\"\\n88,Honduras,\"Johnson&Johnson, Moderna, Oxford/AstraZeneca, Pfizer/BioNTech, Sputnik V\"\\n89,Hong Kong,\"Pfizer/BioNTech, Sinovac\"\\n90,Hungary,\"Johnson&Johnson, Moderna, Oxford/AstraZeneca, Pfizer/BioNTech, Sinopharm/Beijing, Sputnik V\"\\n91,Iceland,\"Johnson&Johnson, Moderna, Oxford/AstraZeneca, Pfizer/BioNTech\"\\n92,India,\"Corbevax, Covaxin, Novavax, Oxford/AstraZeneca, Sputnik V\"\\n93,Indonesia,\"Johnson&Johnson, Moderna, Novavax, Oxford/AstraZeneca, Pfizer/BioNTech, Sinopharm/Beijing, Sinovac\"\\n94,Iran,\"COVIran Barekat, Covaxin, FAKHRAVAC, Oxford/AstraZeneca, Razi Cov Pars, Sinopharm/Beijing, Soberana02, SpikoGen, Sputnik V\"\\n95,Iraq,\"CanSino, Covaxin, Johnson&Johnson, Moderna, Oxford/AstraZeneca, Pfizer/BioNTech, Sinopharm/Beijing, Sinovac, Sputnik Light, Sputnik V\"\\n96,Ireland,\"Johnson&Johnson, Moderna, Novavax, Oxford/AstraZeneca, Pfizer/BioNTech\"\\n97,Isle of Man,\"Moderna, Oxford/AstraZeneca, Pfizer/BioNTech\"\\n98,Israel,\"Moderna, Pfizer/BioNTech\"\\n99,Italy,\"Johnson&Johnson, Moderna, Novavax, Oxford/AstraZeneca, Pfizer/BioNTech\"\\n100,Jamaica,\"Johnson&Johnson, Moderna, Oxford/AstraZeneca, Pfizer/BioNTech\"\\n101,Japan,\"Moderna, Novavax, Oxford/AstraZeneca, Pfizer/BioNTech\"\\n102,Jersey,\"Moderna, Oxford/AstraZeneca, Pfizer/BioNTech\"\\n103,Jordan,\"CanSino, Covaxin, Johnson&Johnson, Moderna, Oxford/AstraZeneca, Pfizer/BioNTech, Sinopharm/Beijing, Sinovac, Sputnik Light, Sputnik V\"\\n104,Kazakhstan,\"QazVac, Sinopharm/Beijing, Sputnik V\"\\n105,Kenya,\"Johnson&Johnson, Moderna, Oxford/AstraZeneca, Pfizer/BioNTech, Sinopharm/Beijing\"\\n106,Kiribati,Oxford/AstraZeneca\\n107,Kosovo,\"Oxford/AstraZeneca, Pfizer/BioNTech\"\\n108,Kuwait,\"CanSino, Covaxin, Johnson&Johnson, Moderna, Oxford/AstraZeneca, Pfizer/BioNTech, Sinopharm/Beijing, Sinovac, Sputnik Light, Sputnik V\"\\n109,Kyrgyzstan,\"Sinopharm/Beijing, Sputnik V\"\\n110,Laos,\"Johnson&Johnson, Oxford/AstraZeneca, Pfizer/BioNTech, Sinopharm/Beijing, Sinovac, Sputnik Light, Sputnik V\"\\n111,Latvia,\"Johnson&Johnson, Moderna, Novavax, Oxford/AstraZeneca, Pfizer/BioNTech\"\\n112,Lebanon,\"CanSino, Covaxin, Johnson&Johnson, Moderna, Oxford/AstraZeneca, Pfizer/BioNTech, Sinopharm/Beijing, Sinovac, Sputnik Light, Sputnik V\"\\n113,Lesotho,\"Johnson&Johnson, Oxford/AstraZeneca, Sinopharm/Beijing\"\\n114,Liberia,Oxford/AstraZeneca\\n115,Libya,\"CanSino, Covaxin, Johnson&Johnson, Moderna, Oxford/AstraZeneca, Pfizer/BioNTech, Sinopharm/Beijing, Sinovac, Sputnik Light, Sputnik V\"\\n116,Liechtenstein,\"Johnson&Johnson, Moderna, Pfizer/BioNTech\"\\n117,Lithuania,\"Johnson&Johnson, Moderna, Novavax, Oxford/AstraZeneca, Pfizer/BioNTech\"\\n118,Luxembourg,\"Johnson&Johnson, Moderna, Novavax, Oxford/AstraZeneca, Pfizer/BioNTech\"\\n119,Macao,\"Pfizer/BioNTech, Sinopharm/Beijing\"\\n120,Madagascar,\"Johnson&Johnson, Oxford/AstraZeneca, Sinopharm/Beijing\"\\n121,Malawi,\"Johnson&Johnson, Oxford/AstraZeneca\"\\n122,Malaysia,\"CanSino, Oxford/AstraZeneca, Pfizer/BioNTech, Sinopharm/Beijing, Sinovac\"\\n123,Maldives,\"Johnson&Johnson, Moderna, Oxford/AstraZeneca, Pfizer/BioNTech, Sinopharm/Beijing, Sinovac, Sputnik V\"\\n124,Mali,Oxford/AstraZeneca\\n125,Malta,\"Johnson&Johnson, Moderna, Oxford/AstraZeneca, Pfizer/BioNTech\"\\n126,Mauritania,\"Oxford/AstraZeneca, Sinopharm/Beijing\"\\n127,Mauritius,\"Covaxin, Oxford/AstraZeneca, Sinopharm/Beijing\"\\n128,Mexico,\"CanSino, Johnson&Johnson, Moderna, Oxford/AstraZeneca, Pfizer/BioNTech, Sinovac, Sputnik V\"\\n129,Moldova,\"Johnson&Johnson, Oxford/AstraZeneca, Pfizer/BioNTech, Sinopharm/Beijing, Sputnik V\"\\n130,Monaco,Pfizer/BioNTech\\n131,Mongolia,\"Oxford/AstraZeneca, Pfizer/BioNTech, Sinopharm/Beijing, Sputnik V\"\\n132,Montenegro,\"Oxford/AstraZeneca, Pfizer/BioNTech, Sinopharm/Beijing, Sputnik V\"\\n133,Montserrat,Oxford/AstraZeneca\\n134,Morocco,\"CanSino, Covaxin, Johnson&Johnson, Moderna, Oxford/AstraZeneca, Pfizer/BioNTech, Sinopharm/Beijing, Sinovac, Sputnik Light, Sputnik V\"\\n135,Mozambique,\"Johnson&Johnson, Oxford/AstraZeneca, Sinopharm/Beijing\"\\n136,Myanmar,\"Oxford/AstraZeneca, Sinopharm/Beijing\"\\n137,Namibia,\"Johnson&Johnson, Oxford/AstraZeneca, Pfizer/BioNTech, Sinopharm/Beijing\"\\n138,Nauru,Oxford/AstraZeneca\\n139,Nepal,\"Johnson&Johnson, Moderna, Oxford/AstraZeneca, Pfizer/BioNTech, Sinopharm/Beijing\"\\n140,Netherlands,\"Johnson&Johnson, Moderna, Novavax, Oxford/AstraZeneca, Pfizer/BioNTech\"\\n141,New Caledonia,Pfizer/BioNTech\\n142,New Zealand,\"Novavax, Oxford/AstraZeneca, Pfizer/BioNTech\"\\n143,Nicaragua,\"Abdala, Johnson&Johnson, Oxford/AstraZeneca, Pfizer/BioNTech, Soberana02, Sputnik Light, Sputnik V\"\\n144,Niger,\"Oxford/AstraZeneca, Sinopharm/Beijing\"\\n145,Nigeria,Oxford/AstraZeneca\\n146,Niue,Pfizer/BioNTech\\n147,North Macedonia,\"Oxford/AstraZeneca, Pfizer/BioNTech, Sinopharm/Beijing, Sinopharm/Wuhan, Sinovac, Sputnik V\"\\n148,Northern Cyprus,\"Oxford/AstraZeneca, Pfizer/BioNTech, Sinovac\"\\n149,Northern Ireland,\"Moderna, Oxford/AstraZeneca, Pfizer/BioNTech\"\\n150,Norway,\"Moderna, Pfizer/BioNTech\"\\n151,Oman,\"CanSino, Covaxin, Johnson&Johnson, Moderna, Oxford/AstraZeneca, Pfizer/BioNTech, Sinopharm/Beijing, Sinovac, Sputnik Light, Sputnik V\"\\n152,Pakistan,\"CanSino, Covaxin, Moderna, Oxford/AstraZeneca, Pfizer/BioNTech, Sinopharm/Beijing, Sinovac, Sputnik V\"\\n153,Palestine,\"CanSino, Covaxin, Johnson&Johnson, Moderna, Oxford/AstraZeneca, Pfizer/BioNTech, Sinopharm/Beijing, Sinovac, Sputnik Light, Sputnik V\"\\n154,Panama,\"Oxford/AstraZeneca, Pfizer/BioNTech\"\\n155,Papua New Guinea,Oxford/AstraZeneca\\n156,Paraguay,\"Covaxin, Moderna, Oxford/AstraZeneca, Pfizer/BioNTech, Sinopharm/Beijing, Sinovac, Sputnik V\"\\n157,Peru,\"Moderna, Oxford/AstraZeneca, Pfizer/BioNTech, Sinopharm/Beijing\"\\n158,Philippines,\"Johnson&Johnson, Moderna, Oxford/AstraZeneca, Pfizer/BioNTech, Sinopharm/Beijing, Sinovac, Sputnik Light, Sputnik V\"\\n159,Pitcairn,Oxford/AstraZeneca\\n160,Poland,\"Johnson&Johnson, Moderna, Novavax, Oxford/AstraZeneca, Pfizer/BioNTech\"\\n161,Portugal,\"Covaxin, Johnson&Johnson, Moderna, Novavax, Oxford/AstraZeneca, Pfizer/BioNTech, Sinopharm/Beijing, Sinovac\"\\n162,Qatar,\"Moderna, Pfizer/BioNTech\"\\n163,Romania,\"Johnson&Johnson, Moderna, Oxford/AstraZeneca, Pfizer/BioNTech\"\\n164,Russia,\"EpiVacCorona, Sputnik V\"\\n165,Rwanda,\"Johnson&Johnson, Moderna, Oxford/AstraZeneca, Pfizer/BioNTech, Sinopharm/Beijing, Sinovac, Sputnik V\"\\n166,Saint Helena,Oxford/AstraZeneca\\n167,Saint Kitts and Nevis,\"Oxford/AstraZeneca, Pfizer/BioNTech\"\\n168,Saint Lucia,\"Johnson&Johnson, Moderna, Oxford/AstraZeneca, Pfizer/BioNTech\"\\n169,Saint Vincent and the Grenadines,\"Oxford/AstraZeneca, Pfizer/BioNTech, Sputnik Light, Sputnik V\"\\n170,Samoa,Oxford/AstraZeneca\\n171,San Marino,\"Pfizer/BioNTech, Sputnik V\"\\n172,Sao Tome and Principe,Oxford/AstraZeneca\\n173,Saudi Arabia,\"Oxford/AstraZeneca, Pfizer/BioNTech\"\\n174,Scotland,\"Moderna, Oxford/AstraZeneca, Pfizer/BioNTech\"\\n175,Senegal,\"Johnson&Johnson, Oxford/AstraZeneca, Sinopharm/Beijing\"\\n176,Serbia,\"Oxford/AstraZeneca, Pfizer/BioNTech, Sinopharm/Beijing, Sputnik V\"\\n177,Seychelles,\"Oxford/AstraZeneca, Sinopharm/Beijing, Sputnik V\"\\n178,Sierra Leone,\"Oxford/AstraZeneca, Sinopharm/Beijing\"\\n179,Singapore,\"Moderna, Novavax, Pfizer/BioNTech, Sinopharm/Beijing, Sinovac\"\\n180,Sint Maarten (Dutch part),\"Moderna, Oxford/AstraZeneca, Pfizer/BioNTech\"\\n181,Slovakia,\"Johnson&Johnson, Moderna, Novavax, Oxford/AstraZeneca, Pfizer/BioNTech, Sputnik V\"\\n182,Slovenia,\"Johnson&Johnson, Moderna, Novavax, Oxford/AstraZeneca, Pfizer/BioNTech\"\\n183,Solomon Islands,Oxford/AstraZeneca\\n184,Somalia,\"CanSino, Covaxin, Johnson&Johnson, Moderna, Oxford/AstraZeneca, Pfizer/BioNTech, Sinopharm/Beijing, Sinovac, Sputnik Light, Sputnik V\"\\n185,South Africa,\"Johnson&Johnson, Pfizer/BioNTech\"\\n186,South Korea,\"Johnson&Johnson, Moderna, Novavax, Oxford/AstraZeneca, Pfizer/BioNTech\"\\n187,South Sudan,\"Johnson&Johnson, Oxford/AstraZeneca\"\\n188,Spain,\"Johnson&Johnson, Moderna, Oxford/AstraZeneca, Pfizer/BioNTech\"\\n189,Sri Lanka,\"Moderna, Oxford/AstraZeneca, Pfizer/BioNTech, Sinopharm/Beijing, Sputnik V\"\\n190,Sudan,\"CanSino, Covaxin, Johnson&Johnson, Moderna, Oxford/AstraZeneca, Pfizer/BioNTech, Sinopharm/Beijing, Sinovac, Sputnik Light, Sputnik V\"\\n191,Suriname,\"Oxford/AstraZeneca, Pfizer/BioNTech, Sinopharm/Beijing\"\\n192,Sweden,\"Moderna, Novavax, Oxford/AstraZeneca, Pfizer/BioNTech\"\\n193,Switzerland,\"Johnson&Johnson, Moderna, Pfizer/BioNTech\"\\n194,Syria,\"CanSino, Covaxin, Johnson&Johnson, Moderna, Oxford/AstraZeneca, Pfizer/BioNTech, Sinopharm/Beijing, Sinovac, Sputnik Light, Sputnik V\"\\n195,Taiwan,\"Medigen, Moderna, Oxford/AstraZeneca, Pfizer/BioNTech\"\\n196,Tajikistan,\"Moderna, Oxford/AstraZeneca, Pfizer/BioNTech, Sinovac, Sputnik V\"\\n197,Tanzania,\"Johnson&Johnson, Pfizer/BioNTech, Sinopharm/Beijing\"\\n198,Thailand,\"Moderna, Oxford/AstraZeneca, Pfizer/BioNTech, Sinopharm/Beijing, Sinovac\"\\n199,Timor,\"Oxford/AstraZeneca, Pfizer/BioNTech, Sinovac\"\\n200,Togo,Oxford/AstraZeneca\\n201,Tokelau,Pfizer/BioNTech\\n202,Tonga,Oxford/AstraZeneca\\n203,Trinidad and Tobago,\"Johnson&Johnson, Oxford/AstraZeneca, Pfizer/BioNTech, Sinopharm/Beijing\"\\n204,Tunisia,\"CanSino, Covaxin, Johnson&Johnson, Moderna, Oxford/AstraZeneca, Pfizer/BioNTech, Sinopharm/Beijing, Sinovac, Sputnik Light, Sputnik V\"\\n205,Turkey,\"Pfizer/BioNTech, Sinovac, Turkovac\"\\n206,Turkmenistan,\"EpiVacCorona, Oxford/AstraZeneca, QazVac, Sinopharm/Beijing, Sputnik V, ZF2001\"\\n207,Turks and Caicos Islands,Pfizer/BioNTech\\n208,Tuvalu,Oxford/AstraZeneca\\n209,Uganda,\"Johnson&Johnson, Moderna, Oxford/AstraZeneca, Pfizer/BioNTech, Sinovac\"\\n210,Ukraine,\"Johnson&Johnson, Moderna, Oxford/AstraZeneca, Pfizer/BioNTech, Sinovac\"\\n211,United Arab Emirates,\"Oxford/AstraZeneca, Pfizer/BioNTech, Sinopharm/Beijing, Sinopharm/Wuhan, Sputnik V\"\\n212,United Kingdom,\"Moderna, Oxford/AstraZeneca, Pfizer/BioNTech\"\\n213,United States,\"Johnson&Johnson, Moderna, Pfizer/BioNTech\"\\n214,Uruguay,\"Oxford/AstraZeneca, Pfizer/BioNTech, Sinovac\"\\n215,Uzbekistan,\"Moderna, Oxford/AstraZeneca, Pfizer/BioNTech, Sinovac, Sputnik Light, Sputnik V, ZF2001\"\\n216,Vanuatu,Oxford/AstraZeneca\\n217,Venezuela,\"Abdala, Sinopharm/Beijing, Sinovac, Soberana02, Sputnik Light, Sputnik V\"\\n218,Vietnam,\"Abdala, Moderna, Oxford/AstraZeneca, Pfizer/BioNTech, Sinopharm/Beijing, Sputnik V\"\\n219,Wales,\"Moderna, Oxford/AstraZeneca, Pfizer/BioNTech\"\\n220,Wallis and Futuna,Moderna\\n221,Yemen,\"CanSino, Covaxin, Johnson&Johnson, Moderna, Oxford/AstraZeneca, Pfizer/BioNTech, Sinopharm/Beijing, Sinovac, Sputnik Light, Sputnik V\"\\n222,Zambia,\"Johnson&Johnson, Oxford/AstraZeneca, Sinopharm/Beijing\"\\n223,Zimbabwe,\"Oxford/AstraZeneca, Sinopharm/Beijing, Sinovac, Sputnik V\"\\n'"
      ]
     },
     "execution_count": 229,
     "metadata": {},
     "output_type": "execute_result"
    }
   ],
   "source": [
    "#store the dataframes into buffers which can be then stored to S3\n",
    "location_and_vaccines.to_csv(csv_buffer)\n",
    "csv_buffer.getvalue()\n",
    "\n"
   ]
  },
  {
   "cell_type": "code",
   "execution_count": 230,
   "id": "97be3111",
   "metadata": {},
   "outputs": [
    {
     "data": {
      "text/plain": [
       "{'ResponseMetadata': {'RequestId': 'HAF5YFGM1EE5AYZ4',\n",
       "  'HostId': 'C7d0s8efv04SEnjQjHEvVoFvg92dgU55tMMxC9tKmMviUQKOMulgXET/yJRNFY5Remzl97UaOwU=',\n",
       "  'HTTPStatusCode': 200,\n",
       "  'HTTPHeaders': {'x-amz-id-2': 'C7d0s8efv04SEnjQjHEvVoFvg92dgU55tMMxC9tKmMviUQKOMulgXET/yJRNFY5Remzl97UaOwU=',\n",
       "   'x-amz-request-id': 'HAF5YFGM1EE5AYZ4',\n",
       "   'date': 'Fri, 10 Nov 2023 14:08:04 GMT',\n",
       "   'x-amz-server-side-encryption': 'AES256',\n",
       "   'etag': '\"9112ffd3c7895d7202f201529116c5de\"',\n",
       "   'server': 'AmazonS3',\n",
       "   'content-length': '0'},\n",
       "  'RetryAttempts': 0},\n",
       " 'ETag': '\"9112ffd3c7895d7202f201529116c5de\"',\n",
       " 'ServerSideEncryption': 'AES256'}"
      ]
     },
     "execution_count": 230,
     "metadata": {},
     "output_type": "execute_result"
    }
   ],
   "source": [
    "#Create S3 object and storing the buffers into the S3\n",
    "ACCESS_KEY = \"\"\n",
    "ACCESS_SECRET = \"\"\n",
    "REGION = \"us-east-1\"\n",
    "s3 = boto3.client(\n",
    "    's3',\n",
    "    aws_access_key_id=ACCESS_KEY,\n",
    "    aws_secret_access_key=ACCESS_SECRET,\n",
    "    region_name=REGION,\n",
    "    )\n",
    "#csv_buffer.seek(0)\n",
    "s3.put_object(Bucket=bucket, Body=csv_buffer.getvalue(), Key='output/location_and_vaccines.csv')"
   ]
  },
  {
   "cell_type": "code",
   "execution_count": 231,
   "id": "86691632",
   "metadata": {},
   "outputs": [
    {
     "data": {
      "text/plain": [
       "{'ResponseMetadata': {'RequestId': '3KB5TDPACDF0E084',\n",
       "  'HostId': 'tQLG5u40VsfoG+9PQPUYblGQoJHQP6lQj60imrYngEEC+3WTXRzetq1GkE4fC62uaXp7y3YqSuc=',\n",
       "  'HTTPStatusCode': 200,\n",
       "  'HTTPHeaders': {'x-amz-id-2': 'tQLG5u40VsfoG+9PQPUYblGQoJHQP6lQj60imrYngEEC+3WTXRzetq1GkE4fC62uaXp7y3YqSuc=',\n",
       "   'x-amz-request-id': '3KB5TDPACDF0E084',\n",
       "   'date': 'Fri, 10 Nov 2023 14:08:27 GMT',\n",
       "   'x-amz-server-side-encryption': 'AES256',\n",
       "   'etag': '\"b09172979633b6179e69453456d55dea\"',\n",
       "   'server': 'AmazonS3',\n",
       "   'content-length': '0'},\n",
       "  'RetryAttempts': 0},\n",
       " 'ETag': '\"b09172979633b6179e69453456d55dea\"',\n",
       " 'ServerSideEncryption': 'AES256'}"
      ]
     },
     "execution_count": 231,
     "metadata": {},
     "output_type": "execute_result"
    }
   ],
   "source": [
    "#load location_and_last_observation_date to s3\n",
    "csv_buffer_1 = StringIO()\n",
    "csv_buffer_1\n",
    "location_and_last_observation_date.to_csv(csv_buffer_1)\n",
    "csv_buffer_1.getvalue()\n",
    "s3.put_object(Bucket=bucket, Body=csv_buffer_1.getvalue(), Key='output/location_and_last_observation_date.csv')"
   ]
  },
  {
   "cell_type": "code",
   "execution_count": 232,
   "id": "2d79c37c",
   "metadata": {},
   "outputs": [
    {
     "data": {
      "text/plain": [
       "{'ResponseMetadata': {'RequestId': 'D3H6G2ZZJDWH9V2D',\n",
       "  'HostId': 'yjOOYEXkAaYT4aP1SsnIHiL/7atyjdm3Rlyg62572pGhQSfyF6ldbjrqqoGDcFgUOqTPBsCX9RE=',\n",
       "  'HTTPStatusCode': 200,\n",
       "  'HTTPHeaders': {'x-amz-id-2': 'yjOOYEXkAaYT4aP1SsnIHiL/7atyjdm3Rlyg62572pGhQSfyF6ldbjrqqoGDcFgUOqTPBsCX9RE=',\n",
       "   'x-amz-request-id': 'D3H6G2ZZJDWH9V2D',\n",
       "   'date': 'Fri, 10 Nov 2023 14:08:39 GMT',\n",
       "   'x-amz-server-side-encryption': 'AES256',\n",
       "   'etag': '\"5c7dbf0903114024e795d16b133cb7c4\"',\n",
       "   'server': 'AmazonS3',\n",
       "   'content-length': '0'},\n",
       "  'RetryAttempts': 0},\n",
       " 'ETag': '\"5c7dbf0903114024e795d16b133cb7c4\"',\n",
       " 'ServerSideEncryption': 'AES256'}"
      ]
     },
     "execution_count": 232,
     "metadata": {},
     "output_type": "execute_result"
    }
   ],
   "source": [
    "#load vaccinations_by_manufacturer_and_total_vaccinations to s3\n",
    "csv_buffer_2 = StringIO()\n",
    "csv_buffer_2\n",
    "vaccinations_by_manufacturer_and_total_vaccinations.to_csv(csv_buffer_2)\n",
    "csv_buffer.getvalue()\n",
    "s3.put_object(Bucket=bucket, Body=csv_buffer_2.getvalue(), Key='output/vaccinations_by_manufacturer_and_total_vaccinations.csv')"
   ]
  },
  {
   "cell_type": "code",
   "execution_count": 233,
   "id": "d01c9b1d",
   "metadata": {},
   "outputs": [
    {
     "data": {
      "text/plain": [
       "{'ResponseMetadata': {'RequestId': '9F1ZMX207477Z29B',\n",
       "  'HostId': 'OONjrbIHFlZXDWsdg/nkjWVyUcBXzfVIfzCvbQNMjhthqIqSt71nR4GaBnjNrxLrORMqwqghVpo=',\n",
       "  'HTTPStatusCode': 200,\n",
       "  'HTTPHeaders': {'x-amz-id-2': 'OONjrbIHFlZXDWsdg/nkjWVyUcBXzfVIfzCvbQNMjhthqIqSt71nR4GaBnjNrxLrORMqwqghVpo=',\n",
       "   'x-amz-request-id': '9F1ZMX207477Z29B',\n",
       "   'date': 'Fri, 10 Nov 2023 14:08:47 GMT',\n",
       "   'x-amz-server-side-encryption': 'AES256',\n",
       "   'etag': '\"02dab7065dfb0c6704a9ee8de6bb3e3b\"',\n",
       "   'server': 'AmazonS3',\n",
       "   'content-length': '0'},\n",
       "  'RetryAttempts': 0},\n",
       " 'ETag': '\"02dab7065dfb0c6704a9ee8de6bb3e3b\"',\n",
       " 'ServerSideEncryption': 'AES256'}"
      ]
     },
     "execution_count": 233,
     "metadata": {},
     "output_type": "execute_result"
    }
   ],
   "source": [
    "#load location_and_daily_vaccinations to s3\n",
    "csv_buffer_3 = StringIO()\n",
    "csv_buffer_3\n",
    "location_and_daily_vaccinations.to_csv(csv_buffer_3)\n",
    "csv_buffer_3.getvalue()\n",
    "s3.put_object(Bucket=bucket, Body=csv_buffer_3.getvalue(), Key='output/location_and_daily_vaccinations.csv')\n"
   ]
  },
  {
   "cell_type": "code",
   "execution_count": 234,
   "id": "926b7507",
   "metadata": {},
   "outputs": [
    {
     "name": "stdout",
     "output_type": "stream",
     "text": [
      "CREATE TABLE \"location_and_vaccines\" (\n",
      "\"index\" INTEGER,\n",
      "  \"location\" TEXT,\n",
      "  \"vaccines\" TEXT\n",
      ")\n"
     ]
    }
   ],
   "source": [
    "#Extract schema from the tables stored in the s3 output bucket\n",
    "#location_and_vaccines\n",
    "location_and_vaccines_sql = pd.io.sql.get_schema(location_and_vaccines.reset_index(),'location_and_vaccines' )\n",
    "print(''.join(location_and_vaccines_sql))"
   ]
  },
  {
   "cell_type": "code",
   "execution_count": 235,
   "id": "29d0366d",
   "metadata": {},
   "outputs": [
    {
     "name": "stdout",
     "output_type": "stream",
     "text": [
      "CREATE TABLE \"location_and_last_observation_date\" (\n",
      "\"index\" INTEGER,\n",
      "  \"location\" TEXT,\n",
      "  \"last_observation_date\" TIMESTAMP\n",
      ")\n"
     ]
    }
   ],
   "source": [
    "#location_and_last_observation_date\n",
    "location_and_last_observation_date_sql = pd.io.sql.get_schema(location_and_last_observation_date.reset_index(),'location_and_last_observation_date' )\n",
    "print(''.join(location_and_last_observation_date_sql))"
   ]
  },
  {
   "cell_type": "code",
   "execution_count": 236,
   "id": "dbb49727",
   "metadata": {},
   "outputs": [
    {
     "name": "stdout",
     "output_type": "stream",
     "text": [
      "CREATE TABLE \"vaccinations_by_manufacturer_and_total_vaccinations\" (\n",
      "\"index\" INTEGER,\n",
      "  \"vaccine\" TEXT,\n",
      "  \"total_vaccinations\" INTEGER\n",
      ")\n"
     ]
    }
   ],
   "source": [
    "#vaccinations_by_manufacturer_and_total_vaccinations\n",
    "vaccinations_by_manufacturer_and_total_vaccinations_sql = pd.io.sql.get_schema(vaccinations_by_manufacturer_and_total_vaccinations.reset_index(),'vaccinations_by_manufacturer_and_total_vaccinations' )\n",
    "print(''.join(vaccinations_by_manufacturer_and_total_vaccinations_sql))\n"
   ]
  },
  {
   "cell_type": "code",
   "execution_count": 237,
   "id": "61f51651",
   "metadata": {
    "scrolled": true
   },
   "outputs": [
    {
     "name": "stdout",
     "output_type": "stream",
     "text": [
      "CREATE TABLE \"location_and_daily_vaccinations\" (\n",
      "\"index\" INTEGER,\n",
      "  \"location\" TEXT,\n",
      "  \"daily_vaccinations\" REAL\n",
      ")\n"
     ]
    }
   ],
   "source": [
    "#location_and_daily_vaccinations\n",
    "location_and_daily_vaccinations_sql = pd.io.sql.get_schema(location_and_daily_vaccinations.reset_index(),'location_and_daily_vaccinations' )\n",
    "print(''.join(location_and_daily_vaccinations_sql))"
   ]
  },
  {
   "cell_type": "code",
   "execution_count": 238,
   "id": "8896f460",
   "metadata": {},
   "outputs": [
    {
     "data": {
      "text/plain": [
       "<redshift_connector.cursor.Cursor at 0x13ff23ac0>"
      ]
     },
     "execution_count": 238,
     "metadata": {},
     "output_type": "execute_result"
    }
   ],
   "source": [
    "import redshift_connector\n",
    "# Connects to Redshift cluster using AWS credentials\n",
    "conn = redshift_connector.connect(\n",
    "     host='bigdata-covid-redshift.csuwrslimmfj.us-east-1.redshift.amazonaws.com',\n",
    "     port=5439,\n",
    "     database='dev',\n",
    "     user='',\n",
    "     password=''\n",
    "  )\n",
    "#cursor= conn.cursor()\n",
    "conn.autocommit=True\n",
    "  \n",
    "# Create a Cursor object\n",
    "cursor: redshift_connector.Cursor = conn.cursor()\n",
    "#Creating location_and_vaccines table on Redshift\n",
    "cursor.execute(\"\"\"\n",
    "CREATE TABLE \"location_and_vaccines\" (\n",
    "\"index\" INTEGER,\n",
    "  \"location\" TEXT,\n",
    "  \"vaccines\" TEXT\n",
    ")\n",
    "\"\"\")\n"
   ]
  },
  {
   "cell_type": "code",
   "execution_count": 239,
   "id": "0fe0db5d",
   "metadata": {},
   "outputs": [
    {
     "data": {
      "text/plain": [
       "<redshift_connector.cursor.Cursor at 0x13ff23ac0>"
      ]
     },
     "execution_count": 239,
     "metadata": {},
     "output_type": "execute_result"
    }
   ],
   "source": [
    "#Creating location_and_last_observation_date table on Redshift\n",
    "cursor.execute(\"\"\"\n",
    "CREATE TABLE \"location_and_last_observation_date\" (\n",
    "\"index\" INTEGER,\n",
    "  \"location\" TEXT,\n",
    "  \"last_observation_date\" TIMESTAMP\n",
    ")\n",
    "\n",
    "\"\"\")"
   ]
  },
  {
   "cell_type": "code",
   "execution_count": 240,
   "id": "a8c1be8b",
   "metadata": {},
   "outputs": [
    {
     "data": {
      "text/plain": [
       "<redshift_connector.cursor.Cursor at 0x13ff23ac0>"
      ]
     },
     "execution_count": 240,
     "metadata": {},
     "output_type": "execute_result"
    }
   ],
   "source": [
    "#Creating vaccinations_by_manufacturer_and_total_vaccinations table on Redshift\n",
    "cursor.execute(\"\"\"\n",
    "CREATE TABLE \"vaccinations_by_manufacturer_and_total_vaccinations\" (\n",
    "\"index\" INTEGER,\n",
    "  \"vaccine\" TEXT,\n",
    "  \"total_vaccinations\" INTEGER\n",
    ")\n",
    "\"\"\")"
   ]
  },
  {
   "cell_type": "code",
   "execution_count": 241,
   "id": "1104f06f",
   "metadata": {},
   "outputs": [
    {
     "data": {
      "text/plain": [
       "<redshift_connector.cursor.Cursor at 0x13ff23ac0>"
      ]
     },
     "execution_count": 241,
     "metadata": {},
     "output_type": "execute_result"
    }
   ],
   "source": [
    "#Creating location_and_daily_vaccinations table on Redshift\n",
    "cursor.execute(\"\"\"\n",
    "CREATE TABLE \"location_and_daily_vaccinations\" (\n",
    "\"index\" INTEGER,\n",
    "  \"location\" TEXT,\n",
    "  \"daily_vaccinations\" REAL\n",
    ")\n",
    "\"\"\")"
   ]
  },
  {
   "cell_type": "code",
   "execution_count": 242,
   "id": "9b479c25",
   "metadata": {},
   "outputs": [
    {
     "data": {
      "text/plain": [
       "<redshift_connector.cursor.Cursor at 0x13ff23ac0>"
      ]
     },
     "execution_count": 242,
     "metadata": {},
     "output_type": "execute_result"
    }
   ],
   "source": [
    "#copy command to copy data from s3 to redshift tables\n",
    "\n",
    "cursor.execute(\"\"\"\n",
    "copy location_and_vaccines from 's3://bigdata-covid-project/output/location_and_vaccines.csv'\n",
    "access_key_id ''\n",
    "secret_access_key ''\n",
    "delimiter ','\n",
    "region 'us-east-1'\n",
    "IGNOREHEADER 1\n",
    "removequotes\n",
    "emptyasnull\n",
    "blanksasnull\n",
    "\"\"\")\n"
   ]
  },
  {
   "cell_type": "code",
   "execution_count": 244,
   "id": "14f36969",
   "metadata": {},
   "outputs": [
    {
     "data": {
      "text/plain": [
       "<redshift_connector.cursor.Cursor at 0x13ff23ac0>"
      ]
     },
     "execution_count": 244,
     "metadata": {},
     "output_type": "execute_result"
    }
   ],
   "source": [
    "\n",
    "cursor.execute(\"\"\"\n",
    "copy location_and_daily_vaccinations from 's3://bigdata-covid-project/output/location_and_daily_vaccinations.csv'\n",
    "access_key_id ''\n",
    "secret_access_key ''\n",
    "delimiter ','\n",
    "region 'us-east-1'\n",
    "IGNOREHEADER 1\n",
    "removequotes\n",
    "emptyasnull\n",
    "blanksasnull\n",
    "\"\"\")\n"
   ]
  },
  {
   "cell_type": "code",
   "execution_count": 245,
   "id": "e537ec1c",
   "metadata": {},
   "outputs": [
    {
     "data": {
      "text/plain": [
       "<redshift_connector.cursor.Cursor at 0x13ff23ac0>"
      ]
     },
     "execution_count": 245,
     "metadata": {},
     "output_type": "execute_result"
    }
   ],
   "source": [
    "cursor.execute(\"\"\"\n",
    "copy location_and_last_observation_date from 's3://bigdata-covid-project/output/location_and_last_observation_date.csv'\n",
    "access_key_id ''\n",
    "secret_access_key ''\n",
    "delimiter ','\n",
    "region 'us-east-1'\n",
    "IGNOREHEADER 1\n",
    "removequotes\n",
    "emptyasnull\n",
    "blanksasnull\n",
    "\"\"\")"
   ]
  },
  {
   "cell_type": "code",
   "execution_count": 246,
   "id": "ceb1fb2a",
   "metadata": {},
   "outputs": [
    {
     "data": {
      "text/plain": [
       "<redshift_connector.cursor.Cursor at 0x13ff23ac0>"
      ]
     },
     "execution_count": 246,
     "metadata": {},
     "output_type": "execute_result"
    }
   ],
   "source": [
    "cursor.execute(\"\"\"\n",
    "copy dev.public.vaccinations_by_manufacturer_and_total_vaccinations from 's3://bigdata-covid-project/output/vaccinations_by_manufacturer_and_total_vaccinations.csv'\n",
    "access_key_id ''\n",
    "secret_access_key ''\n",
    "delimiter ','\n",
    "region 'us-east-1'\n",
    "IGNOREHEADER 1\n",
    "removequotes\n",
    "emptyasnull\n",
    "blanksasnull\n",
    "\"\"\")"
   ]
  },
  {
   "cell_type": "code",
   "execution_count": null,
   "id": "dad0c249",
   "metadata": {},
   "outputs": [],
   "source": []
  }
 ],
 "metadata": {
  "kernelspec": {
   "display_name": "Python 3 (ipykernel)",
   "language": "python",
   "name": "python3"
  },
  "language_info": {
   "codemirror_mode": {
    "name": "ipython",
    "version": 3
   },
   "file_extension": ".py",
   "mimetype": "text/x-python",
   "name": "python",
   "nbconvert_exporter": "python",
   "pygments_lexer": "ipython3",
   "version": "3.10.9"
  }
 },
 "nbformat": 4,
 "nbformat_minor": 5
}
